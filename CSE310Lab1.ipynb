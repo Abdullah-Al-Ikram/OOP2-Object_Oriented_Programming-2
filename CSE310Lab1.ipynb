{
  "nbformat": 4,
  "nbformat_minor": 0,
  "metadata": {
    "colab": {
      "provenance": []
    },
    "kernelspec": {
      "name": "python3",
      "display_name": "Python 3"
    },
    "language_info": {
      "name": "python"
    }
  },
  "cells": [
    {
      "cell_type": "markdown",
      "source": [
        "**Topic: Print**\n",
        "1. Print \"Hello World!\"\n",
        "2. Write a program that print Data Type\n",
        "3. Create a program that print String Legth.\n",
        "4. Write a program that show List values.\n",
        "5. Write a program that print Dictionary."
      ],
      "metadata": {
        "id": "VulalycqG5Vv"
      }
    },
    {
      "cell_type": "code",
      "source": [
        "#1. Print \"Hello World!\".\n",
        "print('Hello World!')"
      ],
      "metadata": {
        "colab": {
          "base_uri": "https://localhost:8080/"
        },
        "id": "wTzuKcf6Hlll",
        "outputId": "be46f903-d035-43dc-cca7-5350b80cd993"
      },
      "execution_count": null,
      "outputs": [
        {
          "output_type": "stream",
          "name": "stdout",
          "text": [
            "Hello World!\n"
          ]
        }
      ]
    },
    {
      "cell_type": "code",
      "source": [
        "#2. Write a program that print Data Type.\n",
        "x = 12\n",
        "y = 10.023\n",
        "z = 'hello'\n",
        "\n",
        "print(type(x))\n",
        "print(type(y))\n",
        "print(type(z))"
      ],
      "metadata": {
        "colab": {
          "base_uri": "https://localhost:8080/"
        },
        "id": "J8OdfA7VKVCc",
        "outputId": "ad5fe463-0602-4d8e-dd9b-37c433dc80f5"
      },
      "execution_count": null,
      "outputs": [
        {
          "output_type": "stream",
          "name": "stdout",
          "text": [
            "<class 'int'>\n",
            "<class 'float'>\n",
            "<class 'str'>\n"
          ]
        }
      ]
    },
    {
      "cell_type": "code",
      "source": [
        "#3. Create a code that print String Legth.\n",
        "name = \"Ikram\"\n",
        "age = 24\n",
        "test = \"My name is \" + name + \" and I am \" + str(age) + \" years old.\"\n",
        "print(test)\n",
        "print(len(test))"
      ],
      "metadata": {
        "colab": {
          "base_uri": "https://localhost:8080/"
        },
        "id": "rgKM_1b9K4DR",
        "outputId": "dc3b83ec-1c41-481a-93ac-787675bf578a"
      },
      "execution_count": null,
      "outputs": [
        {
          "output_type": "stream",
          "name": "stdout",
          "text": [
            "My name is Ikram and I am 24 years old.\n",
            "39\n"
          ]
        }
      ]
    },
    {
      "cell_type": "code",
      "source": [
        "#4. Write a code that show List values.\n",
        "a = [10, 20,30,'hello', 50]\n",
        "print(a)"
      ],
      "metadata": {
        "colab": {
          "base_uri": "https://localhost:8080/"
        },
        "id": "RjoqCN2eLxT0",
        "outputId": "d58d942a-4147-44ea-dbcd-449949f36b88"
      },
      "execution_count": null,
      "outputs": [
        {
          "output_type": "stream",
          "name": "stdout",
          "text": [
            "[10, 20, 30, 'hello', 50]\n"
          ]
        }
      ]
    },
    {
      "cell_type": "code",
      "source": [
        "#5. Write a code that print Dictionary.\n",
        "my_dictionary = {'name': 'Ikram', 'age': 24, 'city': 'Dhaka'}\n",
        "print(my_dictionary)"
      ],
      "metadata": {
        "colab": {
          "base_uri": "https://localhost:8080/"
        },
        "id": "31tixjZ4MbUL",
        "outputId": "63c35f92-69a4-4d8e-8aa8-b0b80d87971f"
      },
      "execution_count": null,
      "outputs": [
        {
          "output_type": "stream",
          "name": "stdout",
          "text": [
            "{'name': 'Ikram', 'age': 24, 'city': 'Dhaka'}\n"
          ]
        }
      ]
    },
    {
      "cell_type": "markdown",
      "source": [
        "**Topic: Variable**\n",
        "1.  Create variable and assign them with value and show output.\n",
        "2.  Show type casting example.\n",
        "3.  Get the type of variable from values and print them.\n",
        "4.  Write a program that swaps the values of two variables without using a temporary variable.\n",
        "5.  Take two strings as input and concatenate them using a variable. Print the result.\n",
        "\n"
      ],
      "metadata": {
        "id": "yhUVm04TNIt5"
      }
    },
    {
      "cell_type": "code",
      "source": [
        "#1. Create variable and assign them with value and show output.\n",
        "x = 24\n",
        "m = 'ikram'\n",
        "\n",
        "print(x)\n",
        "print(m)"
      ],
      "metadata": {
        "colab": {
          "base_uri": "https://localhost:8080/"
        },
        "id": "ORVauOnObo_f",
        "outputId": "5947aa75-c86a-406b-cc7b-10885350235b"
      },
      "execution_count": null,
      "outputs": [
        {
          "output_type": "stream",
          "name": "stdout",
          "text": [
            "24\n",
            "ikram\n"
          ]
        }
      ]
    },
    {
      "cell_type": "code",
      "source": [
        "#2. Show type casting example.\n",
        "a = int(1007)\n",
        "b = float(1007)\n",
        "c = str(1007)\n",
        "\n",
        "print(a)\n",
        "print(b)\n",
        "print(c)"
      ],
      "metadata": {
        "colab": {
          "base_uri": "https://localhost:8080/"
        },
        "id": "XvbC0ZNcbt-X",
        "outputId": "09a8386e-7cc2-4b3d-d929-0858c5c05178"
      },
      "execution_count": null,
      "outputs": [
        {
          "output_type": "stream",
          "name": "stdout",
          "text": [
            "1007\n",
            "1007.0\n",
            "1007\n"
          ]
        }
      ]
    },
    {
      "cell_type": "code",
      "source": [
        "#3. Get the type of variable from values and print them.\n",
        "a = 9\n",
        "b = 4.023\n",
        "c = 'hi'\n",
        "\n",
        "print(type(a))\n",
        "print(type(b))\n",
        "print(type(c))"
      ],
      "metadata": {
        "colab": {
          "base_uri": "https://localhost:8080/"
        },
        "id": "GjomJelnby6M",
        "outputId": "0e59a77b-afae-4995-b288-7680a7e6992e"
      },
      "execution_count": null,
      "outputs": [
        {
          "output_type": "stream",
          "name": "stdout",
          "text": [
            "<class 'int'>\n",
            "<class 'float'>\n",
            "<class 'str'>\n"
          ]
        }
      ]
    },
    {
      "cell_type": "code",
      "source": [
        "#4. Write a program that swaps the values of two variables without using a temporary variable\n",
        "a = 5\n",
        "b = 10\n",
        "\n",
        "print(\"Before swapping:\")\n",
        "print(\"a =\", a)\n",
        "print(\"b =\", b)\n",
        "\n",
        "a, b = b, a\n",
        "\n",
        "print(\"After swapping:\")\n",
        "print(\"a =\", a)\n",
        "print(\"b =\", b)\n"
      ],
      "metadata": {
        "colab": {
          "base_uri": "https://localhost:8080/"
        },
        "id": "SBoRse5Pb3CF",
        "outputId": "9d279467-56af-4d11-c403-c696c44068ae"
      },
      "execution_count": null,
      "outputs": [
        {
          "output_type": "stream",
          "name": "stdout",
          "text": [
            "Before swapping:\n",
            "a = 5\n",
            "b = 10\n",
            "After swapping:\n",
            "a = 10\n",
            "b = 5\n"
          ]
        }
      ]
    },
    {
      "cell_type": "code",
      "source": [
        "#5. Take two strings as input and concatenate them using a variable. Print the result.\n",
        "x = input(\"Enter the first string: \")\n",
        "y = input(\"Enter the second string: \")\n",
        "conc_str = x + y\n",
        "print(\"Concatenated String:\", conc_str)\n"
      ],
      "metadata": {
        "colab": {
          "base_uri": "https://localhost:8080/"
        },
        "id": "8U1koFT9b60N",
        "outputId": "71c036d3-ef00-41c9-ef3d-cb9804b49a73"
      },
      "execution_count": null,
      "outputs": [
        {
          "output_type": "stream",
          "name": "stdout",
          "text": [
            "Enter the first string: md. abdullah\n",
            "Enter the second string: al ikram\n",
            "Concatenated String: md. abdullahal ikram\n"
          ]
        }
      ]
    },
    {
      "cell_type": "markdown",
      "source": [
        "**Topic: Operations**\n",
        "1. Write a program that performs addition, subtraction, multiplication, and division. Print the results.\n",
        "2. Create a program that initializes a variable with a value and then uses compound assignment operators.\n",
        "3. Write a program that prints whether it is even or odd.\n",
        "4. Write a program that calculates the square of a number.\n",
        "5. Write a program that checks if the first number is greater than, less than, or equal to the second number."
      ],
      "metadata": {
        "id": "Fqnxwe6hOkPV"
      }
    },
    {
      "cell_type": "code",
      "source": [
        "#1. Write a program that performs addition, subtraction, multiplication, and division.\n",
        "a = 10\n",
        "b = 5\n",
        "print('Additional Operation: ', a+b)\n",
        "print('Substruction Operation: ', a-b)\n",
        "print('Multiplication Operation: ', a*b)\n",
        "print('Divison Operation: ', a/b)"
      ],
      "metadata": {
        "colab": {
          "base_uri": "https://localhost:8080/"
        },
        "id": "atgu5Il4SdP5",
        "outputId": "68ab940a-e293-4d91-9632-1ab4a08d90d9"
      },
      "execution_count": null,
      "outputs": [
        {
          "output_type": "stream",
          "name": "stdout",
          "text": [
            "Additional Operation:  15\n",
            "Substruction Operation:  5\n",
            "Multiplication Operation:  50\n",
            "Divison Operation:  2.0\n"
          ]
        }
      ]
    },
    {
      "cell_type": "code",
      "source": [
        "#2. Create a program that initializes a variable with a value and then uses compound assignment operators.\n",
        "num = 10\n",
        "num += 2\n",
        "print('After increamenting by 2: ', num)\n",
        "num-= 3\n",
        "print('After decreamenting by 3: ', num)\n",
        "num *= 4\n",
        "print('After multiplying by 4: ', num)\n",
        "num /= 5\n",
        "print('After diving by 5: ', num)\n"
      ],
      "metadata": {
        "colab": {
          "base_uri": "https://localhost:8080/"
        },
        "id": "xgrKLi3xSfb_",
        "outputId": "4eea0d92-38d3-4fec-8c9a-1b888f76f0fb"
      },
      "execution_count": null,
      "outputs": [
        {
          "output_type": "stream",
          "name": "stdout",
          "text": [
            "After increamenting by 2:  12\n",
            "After decreamenting by 3:  9\n",
            "After multiplying by 4:  36\n",
            "After diving by 5:  7.2\n"
          ]
        }
      ]
    },
    {
      "cell_type": "code",
      "source": [
        "#3. Write a program that prints whether it is even or odd.\n",
        "num = 11\n",
        "if num % 2 == 0:\n",
        "  print(\"This is an Even number: \", num)\n",
        "else:\n",
        "  print('This is an Odd number: ', num)"
      ],
      "metadata": {
        "colab": {
          "base_uri": "https://localhost:8080/"
        },
        "id": "yiF9KpV-SgGz",
        "outputId": "852ccc5c-24fb-4a33-9ea9-0be566c6d84d"
      },
      "execution_count": null,
      "outputs": [
        {
          "output_type": "stream",
          "name": "stdout",
          "text": [
            "This is an Odd number:  11\n"
          ]
        }
      ]
    },
    {
      "cell_type": "code",
      "source": [
        "#4. Write a program that calculates the square of a number.\n",
        "num = 10\n",
        "square_num = num ** 2\n",
        "print(f'The square of {num} is: ', square_num)"
      ],
      "metadata": {
        "colab": {
          "base_uri": "https://localhost:8080/"
        },
        "id": "hipeJd6uShGY",
        "outputId": "47948651-cb4f-4a3e-c1cb-37b9a02e905b"
      },
      "execution_count": null,
      "outputs": [
        {
          "output_type": "stream",
          "name": "stdout",
          "text": [
            "The square of 10 is:  100\n"
          ]
        }
      ]
    },
    {
      "cell_type": "code",
      "source": [
        "#5. Write a program that checks if the first number is greater than, less than, or equal to the second number.\n",
        "num1 = 5\n",
        "num2 = 5\n",
        "if num1 > num2:\n",
        "  print(f'{num1} is the greater than {num2}')\n",
        "elif num1 < num2:\n",
        "  print(f'{num2} is the greater than {num1}')\n",
        "else:\n",
        "  print(f'{num1} is equal to {num2}')"
      ],
      "metadata": {
        "colab": {
          "base_uri": "https://localhost:8080/"
        },
        "id": "tINpT0MaSgyP",
        "outputId": "2a6dc5e7-2b92-4d53-ca01-d273e5f4788e"
      },
      "execution_count": null,
      "outputs": [
        {
          "output_type": "stream",
          "name": "stdout",
          "text": [
            "5 is equal to 5\n"
          ]
        }
      ]
    },
    {
      "cell_type": "markdown",
      "source": [
        "**Topic: String**\n",
        "1. Write a program that concatenates two strings.\n",
        "2. Write a program that print String Legth.\n",
        "3. Write a program that strip string.\n",
        "4. Write a program to compare two string.\n",
        "5. Write a program that replace string."
      ],
      "metadata": {
        "id": "FmKvqw94eJOv"
      }
    },
    {
      "cell_type": "code",
      "source": [
        "#1. Write a program that concatenates two string.\n",
        "str1 = 'University of'\n",
        "str2 = 'Asia Pacific'\n",
        "tstr = str1 + \" \" + str2\n",
        "print(tstr)"
      ],
      "metadata": {
        "colab": {
          "base_uri": "https://localhost:8080/"
        },
        "id": "Ea_1zw0Xwh6x",
        "outputId": "4f6f464f-7e64-4098-a557-ab6357831127"
      },
      "execution_count": null,
      "outputs": [
        {
          "output_type": "stream",
          "name": "stdout",
          "text": [
            "University of Asia Pacific\n"
          ]
        }
      ]
    },
    {
      "cell_type": "code",
      "source": [
        "#2. Write a program that print String Legth.\n",
        "str1 = 'Print'\n",
        "str2 = 'String Legth'\n",
        "tstr = str1 + ' ' + str2\n",
        "print(len(tstr))"
      ],
      "metadata": {
        "colab": {
          "base_uri": "https://localhost:8080/"
        },
        "id": "RiQRG6Ulwm5O",
        "outputId": "6fcea843-ef7f-44f2-f70e-c8275fa154dd"
      },
      "execution_count": null,
      "outputs": [
        {
          "output_type": "stream",
          "name": "stdout",
          "text": [
            "18\n"
          ]
        }
      ]
    },
    {
      "cell_type": "code",
      "source": [
        "#3. Write a program that strip string.\n",
        "text = '       Hello, world!  '\n",
        "after_strip = text.strip()\n",
        "print(after_strip)"
      ],
      "metadata": {
        "colab": {
          "base_uri": "https://localhost:8080/"
        },
        "id": "fmXer_hcwm0e",
        "outputId": "2f1dd830-1f65-42e6-9a0f-660836cb6715"
      },
      "execution_count": null,
      "outputs": [
        {
          "output_type": "stream",
          "name": "stdout",
          "text": [
            "Hello, world!\n"
          ]
        }
      ]
    },
    {
      "cell_type": "code",
      "source": [
        "#4. Write a program to compare two string.\n",
        "x = 'apple'\n",
        "y = 'aple'\n",
        "if x == y:\n",
        "  print('The two string are equal')\n",
        "else:\n",
        "  print('The two string are not equal')"
      ],
      "metadata": {
        "colab": {
          "base_uri": "https://localhost:8080/"
        },
        "id": "Z7YeetnLwmub",
        "outputId": "4f05bd26-0492-43fc-eef5-ddbbddbc2fec"
      },
      "execution_count": null,
      "outputs": [
        {
          "output_type": "stream",
          "name": "stdout",
          "text": [
            "The two string are not equal\n"
          ]
        }
      ]
    },
    {
      "cell_type": "code",
      "source": [
        "#5. Write a program that replace string.\n",
        "text = 'This is an example sentence. It contains an example word.'\n",
        "new_text = text.replace('example', 'changed')\n",
        "print(new_text)"
      ],
      "metadata": {
        "colab": {
          "base_uri": "https://localhost:8080/"
        },
        "id": "kL6ZDux7wmk1",
        "outputId": "b236c149-a3f5-48b5-98ab-3b2022428b4d"
      },
      "execution_count": null,
      "outputs": [
        {
          "output_type": "stream",
          "name": "stdout",
          "text": [
            "This is an changed sentence. It contains an changed word.\n"
          ]
        }
      ]
    },
    {
      "cell_type": "markdown",
      "source": [
        "**Topic: Control-Flow**\n",
        "1. Write a program that checks if a number is positive or negative.\n",
        "2. Write a program that checks if a number is positive than find out if that number is ood or even.\n",
        "3. Write a program that prints different messages based on the temperature range.\n",
        "4. Print a message indicating whether the number was found or no\n",
        "5. Use the break statement to exit the inner loop if number is greater than 10"
      ],
      "metadata": {
        "id": "yWmvnE42yxxS"
      }
    },
    {
      "cell_type": "code",
      "source": [
        "#1. Write a program that checks if a number is positive, negative or zer0.\n",
        "x = -1\n",
        "if x > 0:\n",
        "  print('This is a Positive number')\n",
        "elif x < 0:\n",
        "  print('This is a Negative number')\n",
        "else:\n",
        "  print('This number is Zero')"
      ],
      "metadata": {
        "colab": {
          "base_uri": "https://localhost:8080/"
        },
        "id": "cGF5EDQb5POm",
        "outputId": "f315b772-bde7-453f-a99e-20768584a94b"
      },
      "execution_count": null,
      "outputs": [
        {
          "output_type": "stream",
          "name": "stdout",
          "text": [
            "This is a Negative number\n"
          ]
        }
      ]
    },
    {
      "cell_type": "code",
      "source": [
        "#2. Write a program that checks if a number is positive than find out if that number is ood or even.\n",
        "num = 23\n",
        "if num > 0:\n",
        "  print('This is a Positive number')\n",
        "  if num % 2 == 0:\n",
        "    print(\"This is an Even number: \", num)\n",
        "  else:\n",
        "    print('This is an Odd number: ', num)\n",
        "elif num < 0:\n",
        "  print('This is a Negative number')\n",
        "else:\n",
        "  print('This number is Zero')"
      ],
      "metadata": {
        "colab": {
          "base_uri": "https://localhost:8080/"
        },
        "id": "HZHyxm_r5PDs",
        "outputId": "646a82dc-baa6-4aa2-bc95-e48e9abdabde"
      },
      "execution_count": null,
      "outputs": [
        {
          "output_type": "stream",
          "name": "stdout",
          "text": [
            "This is a Positive number\n",
            "This is an Odd number:  23\n"
          ]
        }
      ]
    },
    {
      "cell_type": "code",
      "source": [
        "#3. Write a program that prints different messages based on the temperature range.\n",
        "temp = 14\n",
        "\n",
        "if temp < 0:\n",
        "    print(\"It's freezing cold! Bundle up.\")\n",
        "elif 0 <= temp <= 10:\n",
        "    print(\"It's very cold. Wear a heavy jacket.\")\n",
        "elif 10 < temp <= 20:\n",
        "    print(\"It's chilly. A light jacket might be enough.\")\n",
        "elif 20 < temp <= 30:\n",
        "    print(\"It's a comfortable temperature.\")\n",
        "elif 30 < temp <= 40:\n",
        "    print(\"It's warm. Short sleeves would be comfortable.\")\n",
        "else:\n",
        "    print(\"It's hot! Stay cool and hydrated.\")\n"
      ],
      "metadata": {
        "colab": {
          "base_uri": "https://localhost:8080/"
        },
        "id": "I2BfN21Q5PAc",
        "outputId": "0e083ea3-a624-4959-914c-be8e4af2c59a"
      },
      "execution_count": null,
      "outputs": [
        {
          "output_type": "stream",
          "name": "stdout",
          "text": [
            "It's chilly. A light jacket might be enough.\n"
          ]
        }
      ]
    },
    {
      "cell_type": "code",
      "source": [
        "#4. Print a message indicating whether the number was found or no.\n",
        "list = [\"Ikram\", \"Mission\", \"Adhora\", \"Alvi\", \"Tomal\"]\n",
        "name = \"Alvi\"\n",
        "\n",
        "# Check if the name is present in the list\n",
        "if name in list:\n",
        "    print(f\"{name} was found in the list.\")\n",
        "else:\n",
        "    print(f\"{name} was not found in the list.\")\n"
      ],
      "metadata": {
        "colab": {
          "base_uri": "https://localhost:8080/"
        },
        "id": "g8QgzBEt5O8t",
        "outputId": "205a335d-d743-43d6-d8f6-f7483fc3611c"
      },
      "execution_count": null,
      "outputs": [
        {
          "output_type": "stream",
          "name": "stdout",
          "text": [
            "Alvi was found in the list.\n"
          ]
        }
      ]
    },
    {
      "cell_type": "code",
      "source": [
        "#5. Use the break statement to exit the inner loop if number is greater than 10.\n",
        "nums = [3, 8, 12, 5, 17, 9, 14, 6]\n",
        "for num in nums:\n",
        "    if num > 10:\n",
        "        break  # Exit the loop if the number is greater than 10\n",
        "    print(num)"
      ],
      "metadata": {
        "colab": {
          "base_uri": "https://localhost:8080/"
        },
        "id": "b3BDSX0K5O0c",
        "outputId": "fa715365-6fda-461d-eb04-1c84d8aff95a"
      },
      "execution_count": null,
      "outputs": [
        {
          "output_type": "stream",
          "name": "stdout",
          "text": [
            "3\n",
            "8\n"
          ]
        }
      ]
    },
    {
      "cell_type": "markdown",
      "source": [
        "**Topic: User Input**\n",
        "1. Write a program that takes user input.\n",
        "2. Write a program that takes user input using raw_input.\n",
        "3. Write a program that uses takes as desired input.\n",
        "4. Write a program that takes input and show inputs type.\n",
        "5. Write a program that takes string and show the lenght of that string."
      ],
      "metadata": {
        "id": "kvOLMVb7yyQ0"
      }
    },
    {
      "cell_type": "code",
      "source": [
        "#1. Write a program that takes user input.\n",
        "x = input('Énter Value: ')\n",
        "print(x)"
      ],
      "metadata": {
        "colab": {
          "base_uri": "https://localhost:8080/"
        },
        "id": "ry-Du1wXX0RM",
        "outputId": "1a2770cf-72a7-49dc-f0bb-0fdac6f3d9a8"
      },
      "execution_count": null,
      "outputs": [
        {
          "output_type": "stream",
          "name": "stdout",
          "text": [
            "Énter Value: Ikram\n",
            "Ikram\n"
          ]
        }
      ]
    },
    {
      "cell_type": "code",
      "source": [
        "#2. Write a program that takes two string from user input and concate them.\n",
        "str1 = input('Énter first string: ')\n",
        "str2 = input('Énter second string: ')\n",
        "print(str1 + \" \" + str2)"
      ],
      "metadata": {
        "colab": {
          "base_uri": "https://localhost:8080/"
        },
        "id": "KARRaxabX0K8",
        "outputId": "76b60f26-966e-4f41-ec12-eb5901a301ac"
      },
      "execution_count": null,
      "outputs": [
        {
          "output_type": "stream",
          "name": "stdout",
          "text": [
            "Énter first string: Alvi\n",
            "Énter second string: Khan\n",
            "Alvi Khan\n"
          ]
        }
      ]
    },
    {
      "cell_type": "code",
      "source": [
        "#3. Write a program that uses takes as desired input.\n",
        "num = int(input(\"Enter a number: \"))\n",
        "print(num, \" \", type(num))\n",
        "\n",
        "floatNum = float(input(\"Enter a decimal number: \"))\n",
        "print(floatNum, \" \", type(floatNum))\n"
      ],
      "metadata": {
        "colab": {
          "base_uri": "https://localhost:8080/"
        },
        "id": "qF7tOvEyX0IE",
        "outputId": "4c32d898-8993-4e5f-8e1b-8accb103a7bf"
      },
      "execution_count": null,
      "outputs": [
        {
          "output_type": "stream",
          "name": "stdout",
          "text": [
            "Enter a number: 5\n",
            "5   <class 'int'>\n",
            "Enter a decimal number: 6.235\n",
            "6.235   <class 'float'>\n"
          ]
        }
      ]
    },
    {
      "cell_type": "code",
      "source": [
        "#4. Write a program that takes input and show inputs type.\n",
        "x = int(input('Enter value: '))\n",
        "y = float(input('Enter value: '))\n",
        "z = input('Enter value: ')\n",
        "\n",
        "print(type(x))\n",
        "print(type(y))\n",
        "print(type(z))"
      ],
      "metadata": {
        "colab": {
          "base_uri": "https://localhost:8080/"
        },
        "id": "JRM7vW0TX0AU",
        "outputId": "2bb89cf0-0c93-4597-d613-82e9bb70f7c0"
      },
      "execution_count": null,
      "outputs": [
        {
          "output_type": "stream",
          "name": "stdout",
          "text": [
            "Enter value: 5\n",
            "Enter value: 123.121\n",
            "Enter value: Ikram\n",
            "<class 'int'>\n",
            "<class 'float'>\n",
            "<class 'str'>\n"
          ]
        }
      ]
    },
    {
      "cell_type": "code",
      "source": [
        "#5. Write a program that takes string and show the lenght of that string.\n",
        "str = input('Ente a string: ')\n",
        "print('String Length: ', len(str))"
      ],
      "metadata": {
        "colab": {
          "base_uri": "https://localhost:8080/"
        },
        "id": "Wn3bJ0cjXzc-",
        "outputId": "f99ac814-7c34-451e-8ce8-88aaad1c66fd"
      },
      "execution_count": null,
      "outputs": [
        {
          "output_type": "stream",
          "name": "stdout",
          "text": [
            "Ente a string: My name is Ikram\n",
            "String Length:  16\n"
          ]
        }
      ]
    },
    {
      "cell_type": "markdown",
      "source": [
        "**Topic: Loop**\n",
        "1. Write a program that print 'Hello, python' 5 times.\n",
        "2. Write a program that skip negative number using countinue function.\n",
        "3. Write a program that uses a while loop to find the factorial of a given number.\n",
        "4. Write a program that prints the first 10 numbers of the Fibonacci sequence using a loop.\n",
        "5. Write a program that loop with a Positive Step 0 to 10 with a step of 2."
      ],
      "metadata": {
        "id": "K4J2dfkKzQ14"
      }
    },
    {
      "cell_type": "code",
      "source": [
        "#1. Write a program that print 'Hello, python' 5 times.\n",
        "# Program to print 'Hello, Python' 5 times\n",
        "for _ in range(5):\n",
        "    print('Hello, Python')\n"
      ],
      "metadata": {
        "colab": {
          "base_uri": "https://localhost:8080/"
        },
        "id": "EHKJydHQYaj5",
        "outputId": "da3a0efa-edaa-4631-c091-8fdfd47bf8dd"
      },
      "execution_count": null,
      "outputs": [
        {
          "output_type": "stream",
          "name": "stdout",
          "text": [
            "Hello, Python\n",
            "Hello, Python\n",
            "Hello, Python\n",
            "Hello, Python\n",
            "Hello, Python\n"
          ]
        }
      ]
    },
    {
      "cell_type": "code",
      "source": [
        "#2. Write a program that skip negative number using countinue function.\n",
        "numbers = [5, -2, 8, -3, 0, 7, -1]\n",
        "for num in numbers:\n",
        "    if num < 0:\n",
        "        continue\n",
        "    print(num)\n"
      ],
      "metadata": {
        "colab": {
          "base_uri": "https://localhost:8080/"
        },
        "id": "0JwOqd38apBt",
        "outputId": "4e46e732-b26f-4bb6-be80-1a99c3b3e3c5"
      },
      "execution_count": null,
      "outputs": [
        {
          "output_type": "stream",
          "name": "stdout",
          "text": [
            "5\n",
            "8\n",
            "0\n",
            "7\n"
          ]
        }
      ]
    },
    {
      "cell_type": "code",
      "source": [
        "#3. Write a program that uses a while loop to find the factorial of a given number.\n",
        "num = 5\n",
        "result = 1\n",
        "current_number = 1\n",
        "while current_number <= num:\n",
        "    result *= current_number\n",
        "    current_number += 1\n",
        "print(f\"The factorial of {num} is {result}.\")\n"
      ],
      "metadata": {
        "colab": {
          "base_uri": "https://localhost:8080/"
        },
        "id": "w0ZDtrSpcGGr",
        "outputId": "abf098f5-da17-4546-ac8e-ef42ab2994dc"
      },
      "execution_count": null,
      "outputs": [
        {
          "output_type": "stream",
          "name": "stdout",
          "text": [
            "The factorial of 5 is 120.\n"
          ]
        }
      ]
    },
    {
      "cell_type": "code",
      "source": [
        "#4. Write a program that prints the first 10 numbers of the Fibonacci sequence using a loop.\n",
        "fibonacci_sequence = [0, 1]\n",
        "for _ in range(8):\n",
        "    next_number = fibonacci_sequence[-1] + fibonacci_sequence[-2]\n",
        "    fibonacci_sequence.append(next_number)\n",
        "\n",
        "print(\"First 10 numbers of the Fibonacci sequence: \", fibonacci_sequence)"
      ],
      "metadata": {
        "colab": {
          "base_uri": "https://localhost:8080/"
        },
        "id": "yYTcAUVhigdb",
        "outputId": "95f701ef-b30e-4940-9ce8-932c66ddce6f"
      },
      "execution_count": null,
      "outputs": [
        {
          "output_type": "stream",
          "name": "stdout",
          "text": [
            "First 10 numbers of the Fibonacci sequence:  [0, 1, 1, 2, 3, 5, 8, 13, 21, 34]\n"
          ]
        }
      ]
    },
    {
      "cell_type": "code",
      "source": [
        "#5. Looping with a Positive Step 0 to 10 with a step of 3\n",
        "for i in range(0, 11, 2):\n",
        "    print(i)"
      ],
      "metadata": {
        "colab": {
          "base_uri": "https://localhost:8080/"
        },
        "id": "aefZKvVIkdbd",
        "outputId": "ed396742-dc7c-4997-ade8-bc4859fccf79"
      },
      "execution_count": null,
      "outputs": [
        {
          "output_type": "stream",
          "name": "stdout",
          "text": [
            "0\n",
            "2\n",
            "4\n",
            "6\n",
            "8\n",
            "10\n"
          ]
        }
      ]
    },
    {
      "cell_type": "markdown",
      "source": [
        "**Topic: List**\n",
        "1. Write a program that print all the element of the list, index 0 and reverse index -1 value.\n",
        "2. Write a program that change item in the list in specifi place.\n",
        "3. Write a program that add, append, insert, remove, pop items in list.\n",
        "4. Write a program that copy and deep.copy function,\n",
        "5. Write a program that join two list."
      ],
      "metadata": {
        "id": "WrWhS0OtzTXS"
      }
    },
    {
      "cell_type": "code",
      "source": [
        "#1. Write a program that print all the element of the list, index 0 and reverse index -1 value.\n",
        "list = [7 , 19, 23, 'Mission', 'Impossible']\n",
        "\n",
        "print(list)\n",
        "print(list[0])\n",
        "print(list[-1])"
      ],
      "metadata": {
        "colab": {
          "base_uri": "https://localhost:8080/"
        },
        "id": "YbSmLH8ByG-Y",
        "outputId": "3f107a21-3b66-49b7-8556-9ce3c93c74ff"
      },
      "execution_count": null,
      "outputs": [
        {
          "output_type": "stream",
          "name": "stdout",
          "text": [
            "[7, 19, 23, 'Mission', 'Impossible']\n",
            "7\n",
            "Impossible\n"
          ]
        }
      ]
    },
    {
      "cell_type": "code",
      "source": [
        "#2. Write a program that change item in the list in specifi place.\n",
        "list = [7 , 19, 23, 'Mission', 'Impossible']\n",
        "list[-1] = 'Possible'\n",
        "print(list)"
      ],
      "metadata": {
        "colab": {
          "base_uri": "https://localhost:8080/"
        },
        "id": "amwgenLmyG3Y",
        "outputId": "a6e33345-5ed6-4e6a-a885-1ab52c8fe8ed"
      },
      "execution_count": null,
      "outputs": [
        {
          "output_type": "stream",
          "name": "stdout",
          "text": [
            "[7, 19, 23, 'Mission', 'Possible']\n"
          ]
        }
      ]
    },
    {
      "cell_type": "code",
      "source": [
        "#3. Write a program that add operation using append, insert and use remove, pop function of items in list.\n",
        "list = [7 , 19, 23, 'Mission', 'Possible']\n",
        "list.append('71')  #added at the end of the list\n",
        "print(list)\n",
        "list.insert(2, 'cherry')  #added on specific index\n",
        "print(list)\n",
        "list.remove('Possible') #remove first occurence from list\n",
        "print(list)\n",
        "p_item = list.pop(2)\n",
        "print(p_item)  #popped item in index 2\n",
        "print(list)"
      ],
      "metadata": {
        "colab": {
          "base_uri": "https://localhost:8080/"
        },
        "id": "XcLPKeExyGb-",
        "outputId": "e2d87fe2-f1c3-4907-f06e-518b19a70950"
      },
      "execution_count": null,
      "outputs": [
        {
          "output_type": "stream",
          "name": "stdout",
          "text": [
            "[7, 19, 23, 'Mission', 'Possible', '71']\n",
            "[7, 19, 'cherry', 23, 'Mission', 'Possible', '71']\n",
            "[7, 19, 'cherry', 23, 'Mission', '71']\n",
            "cherry\n",
            "[7, 19, 23, 'Mission', '71']\n"
          ]
        }
      ]
    },
    {
      "cell_type": "code",
      "source": [
        "#4. Write a program that copy and deep.copy function.\n",
        "import copy\n",
        "\n",
        "original_list = [1, [2, 3], 4]\n",
        "shallow_copy = copy.copy(original_list)\n",
        "\n",
        "print('Original List: ',original_list)\n",
        "print('Shallow Copy: ',shallow_copy)\n",
        "\n",
        "# Modifying the original list does affect the shallow copy\n",
        "original_list[1][0] = 'X'\n",
        "print('Original List: ',original_list)\n",
        "print('Shallow Copy: ',shallow_copy)\n",
        "\n",
        "\n",
        "deep_copy = copy.deepcopy(original_list)\n",
        "\n",
        "print('Original List: ',original_list)\n",
        "print('Deep Copy: ',deep_copy)\n",
        "\n",
        "# Modifying the original list does not affect the deep copy\n",
        "original_list[1][0] = 'X'\n",
        "print('Original List: ',original_list)\n",
        "print('Deep Copy: ',deep_copy)"
      ],
      "metadata": {
        "colab": {
          "base_uri": "https://localhost:8080/"
        },
        "id": "CtsANN9qyGQU",
        "outputId": "b77719cf-2768-4c1c-da18-4f2264be0678"
      },
      "execution_count": null,
      "outputs": [
        {
          "output_type": "stream",
          "name": "stdout",
          "text": [
            "Original List:  [1, [2, 3], 4]\n",
            "Shallow Copy:  [1, [2, 3], 4]\n",
            "Original List:  [1, ['X', 3], 4]\n",
            "Shallow Copy:  [1, ['X', 3], 4]\n",
            "Original List:  [1, ['X', 3], 4]\n",
            "Deep Copy:  [1, ['X', 3], 4]\n",
            "Original List:  [1, ['X', 3], 4]\n",
            "Deep Copy:  [1, ['X', 3], 4]\n"
          ]
        }
      ]
    },
    {
      "cell_type": "code",
      "source": [
        "#5. Write a program that join two list.\n",
        "list1 = [1, 2, 3]\n",
        "list2 = ['x', 'y', 'z']\n",
        "joined_list = list1 + list2\n",
        "print(joined_list)"
      ],
      "metadata": {
        "colab": {
          "base_uri": "https://localhost:8080/"
        },
        "id": "5NyNBaOSyGD1",
        "outputId": "74aab9b5-a103-4705-8869-7e18b3111d60"
      },
      "execution_count": null,
      "outputs": [
        {
          "output_type": "stream",
          "name": "stdout",
          "text": [
            "[1, 2, 3, 'x', 'y', 'z']\n"
          ]
        }
      ]
    },
    {
      "cell_type": "markdown",
      "source": [
        "**Topic: Tuple**\n",
        "1. Write a program to create and access tuples.\n",
        "2. Write a program to update and unpack tuples.\n",
        "3. Write a program that print all the tuples.\n",
        "4. Write a program that join two tuple\n",
        "5. Write a program to count and return tuple index."
      ],
      "metadata": {
        "id": "CUAwg3iHzV2E"
      }
    },
    {
      "cell_type": "code",
      "source": [
        "#1. Write a program to create and access tuples.\n",
        "tuple = (1, 2, 3, 'apple', 'banana')\n",
        "\n",
        "print(tuple)\n",
        "print(tuple[3])\n",
        "print(tuple[-3])"
      ],
      "metadata": {
        "colab": {
          "base_uri": "https://localhost:8080/"
        },
        "id": "qPWrHTml8zaJ",
        "outputId": "7e0e7bcf-6913-408e-9555-e5691498d3d1"
      },
      "execution_count": null,
      "outputs": [
        {
          "output_type": "stream",
          "name": "stdout",
          "text": [
            "(1, 2, 3, 'apple', 'banana')\n",
            "apple\n",
            "3\n"
          ]
        }
      ]
    },
    {
      "cell_type": "code",
      "source": [
        "#2. Write a program to update and unpack tuples.\n",
        "tuple = (1, 2, 3, 'apple', 'banana')\n",
        "new_tuple = tuple + ('Mango',) #update tuple\n",
        "print(new_tuple)\n",
        "\n",
        "a, b, *c, rest = new_tuple #unpack\n",
        "print(a, b, c)   #output: 1 2 [3, 'apple', 'banana']\n",
        "print(rest) #output: Mango"
      ],
      "metadata": {
        "colab": {
          "base_uri": "https://localhost:8080/"
        },
        "id": "DQyGyOpD80S9",
        "outputId": "cd9cfcf6-b1e3-4c3f-8ed9-00e8b447b457"
      },
      "execution_count": null,
      "outputs": [
        {
          "output_type": "stream",
          "name": "stdout",
          "text": [
            "(1, 2, 3, 'apple', 'banana', 'Mango')\n",
            "1 2 [3, 'apple', 'banana']\n",
            "Mango\n"
          ]
        }
      ]
    },
    {
      "cell_type": "code",
      "source": [
        "#3. Write a program that print all the tuples.\n",
        "tuple = (1, 2, 3, 'apple', 'banana')\n",
        "for i in tuple:\n",
        "  print(i)"
      ],
      "metadata": {
        "colab": {
          "base_uri": "https://localhost:8080/"
        },
        "id": "iv5_FSq-80IF",
        "outputId": "2307a520-b2b7-4761-871c-be84acc486e2"
      },
      "execution_count": null,
      "outputs": [
        {
          "output_type": "stream",
          "name": "stdout",
          "text": [
            "1\n",
            "2\n",
            "3\n",
            "apple\n",
            "banana\n"
          ]
        }
      ]
    },
    {
      "cell_type": "code",
      "source": [
        "#4. Write a program that join two tuple\n",
        "tuple1 = (1, 2, 3)\n",
        "tuple2 = ('apple', 'banana')\n",
        "joined_tuple = tuple1 + tuple2;\n",
        "print(joined_tuple)"
      ],
      "metadata": {
        "colab": {
          "base_uri": "https://localhost:8080/"
        },
        "id": "6qZPSzUs80Cr",
        "outputId": "f47ac4a5-37f2-4c22-d800-bf4938a8680b"
      },
      "execution_count": null,
      "outputs": [
        {
          "output_type": "stream",
          "name": "stdout",
          "text": [
            "(1, 2, 3, 'apple', 'banana')\n"
          ]
        }
      ]
    },
    {
      "cell_type": "code",
      "source": [
        "#5. Write a program to count and return tuple index.\n",
        "tuple = (1, 2, 3, 'apple', 'banana', 3 , 'apple')\n",
        "count = tuple.count(3)\n",
        "index = tuple.index(2)\n",
        "print(count)\n",
        "print(index)"
      ],
      "metadata": {
        "colab": {
          "base_uri": "https://localhost:8080/"
        },
        "id": "lU9gKvmd8z98",
        "outputId": "03f0da79-fe56-41e3-af38-40f4d7a3d155"
      },
      "execution_count": null,
      "outputs": [
        {
          "output_type": "stream",
          "name": "stdout",
          "text": [
            "2\n",
            "1\n"
          ]
        }
      ]
    },
    {
      "cell_type": "markdown",
      "source": [
        "**Topic: Dictionary**\n",
        "1. Write a program to creat and access dictionary.\n",
        "2. Write a program to change and add items in dictionary.\n",
        "3. Write a program to remove item with the specific key and return its value.\n",
        "4. Write a program to interate over dictionary.\n",
        "5. Write a program that can contain other dictionaries as values."
      ],
      "metadata": {
        "id": "CzsaUsdlzZGR"
      }
    },
    {
      "cell_type": "code",
      "source": [
        "#1. Write a program to create and access dictionary.\n",
        "dict = { 'name' : 'Ikram', 'age' : 24, 'city' : 'Dhaka'}\n",
        "print(dict)\n",
        "print(dict['name'])\n",
        "print(dict['city'])"
      ],
      "metadata": {
        "colab": {
          "base_uri": "https://localhost:8080/"
        },
        "id": "KoQul1N3FPI9",
        "outputId": "8cddfb58-778a-4344-df70-aa57a3da8dc5"
      },
      "execution_count": null,
      "outputs": [
        {
          "output_type": "stream",
          "name": "stdout",
          "text": [
            "{'name': 'Ikram', 'age': 24, 'city': 'Dhaka'}\n",
            "Ikram\n",
            "Dhaka\n"
          ]
        }
      ]
    },
    {
      "cell_type": "code",
      "source": [
        "#2. Write a program to change and add items in dictionary.\n",
        "dict = { 'name' : 'Ikram', 'age' : 24, 'city' : 'Dhaka'}\n",
        "dict['city'] = 'Narayanganj'\n",
        "print(dict['city'])\n",
        "dict['occupation'] = 'Student'\n",
        "print(dict)"
      ],
      "metadata": {
        "colab": {
          "base_uri": "https://localhost:8080/"
        },
        "id": "ChpZfBBZFP5j",
        "outputId": "a60029d8-d54e-4633-ea25-b5989394540a"
      },
      "execution_count": null,
      "outputs": [
        {
          "output_type": "stream",
          "name": "stdout",
          "text": [
            "Narayanganj\n",
            "{'name': 'Ikram', 'age': 24, 'city': 'Narayanganj', 'occupation': 'Student'}\n"
          ]
        }
      ]
    },
    {
      "cell_type": "code",
      "source": [
        "#3. Write a program to remove item with the specific key and return its value.\n",
        "dict = { 'name' : 'Ikram', 'age' : 24, 'city' : 'Dhaka', 'occupation': 'Student'}\n",
        "remove_city = dict.pop('city')\n",
        "remove_item = dict.popitem()\n",
        "print(remove_city)\n",
        "print(remove_item)"
      ],
      "metadata": {
        "colab": {
          "base_uri": "https://localhost:8080/"
        },
        "id": "AXmbSikgFP2x",
        "outputId": "a4ff0da4-c4ce-4849-8691-c5b7dac66674"
      },
      "execution_count": null,
      "outputs": [
        {
          "output_type": "stream",
          "name": "stdout",
          "text": [
            "Dhaka\n",
            "('occupation', 'Student')\n"
          ]
        }
      ]
    },
    {
      "cell_type": "code",
      "source": [
        "#4. Write a program to interate over dictionary.\n",
        "dict = { 'name' : 'Ikram', 'age' : 24, 'city' : 'Dhaka', 'occupation': 'Student'}\n",
        "for key in dict:\n",
        "  print(key)\n",
        "for value in dict.values():\n",
        "  print(value)\n",
        "for key, value in dict.items():\n",
        "  print(key, value)"
      ],
      "metadata": {
        "colab": {
          "base_uri": "https://localhost:8080/"
        },
        "id": "L6viNcz-FPzh",
        "outputId": "88640da1-d4f8-4b7d-c69e-e207c747dd97"
      },
      "execution_count": null,
      "outputs": [
        {
          "output_type": "stream",
          "name": "stdout",
          "text": [
            "name\n",
            "age\n",
            "city\n",
            "occupation\n",
            "Ikram\n",
            "24\n",
            "Dhaka\n",
            "Student\n",
            "name Ikram\n",
            "age 24\n",
            "city Dhaka\n",
            "occupation Student\n"
          ]
        }
      ]
    },
    {
      "cell_type": "code",
      "source": [
        "#5. Write a program that can contain other dictionaries as values.\n",
        "nested_dict = {'person' : {'name' : 'Ikram', 'age' : 24, 'city' : 'Dhaka', 'occupation': 'Student'}}\n",
        "print(nested_dict['person']['occupation'])\n"
      ],
      "metadata": {
        "colab": {
          "base_uri": "https://localhost:8080/"
        },
        "id": "nE5M4MerFPth",
        "outputId": "4943b2d5-9aa7-4517-e704-86382f4e2cec"
      },
      "execution_count": null,
      "outputs": [
        {
          "output_type": "stream",
          "name": "stdout",
          "text": [
            "Student\n"
          ]
        }
      ]
    },
    {
      "cell_type": "markdown",
      "source": [
        "**Topic: Function**\n",
        "1. Write a program that passes parameters in function.\n",
        "2. Write a program that return the squre of that number.\n",
        "3. Write a program that find factorial.\n",
        "4. Write a program that passes list as parameter and traverse the list.\n",
        "5. Write a program that valid usage of keyword and argumental parameter."
      ],
      "metadata": {
        "id": "gYR2b83Gze8y"
      }
    },
    {
      "cell_type": "code",
      "source": [
        "#1. Write a program that passes parameters in function.\n",
        "def substruct_number(x, y):\n",
        "  sub = x - y\n",
        "  print(f'Substruction of {x} - {y} :',sub)\n",
        "substruct_number(10,7)"
      ],
      "metadata": {
        "colab": {
          "base_uri": "https://localhost:8080/"
        },
        "id": "rdBt664BLUDH",
        "outputId": "ff52a465-2532-4f74-b1f7-fe80cca2afdb"
      },
      "execution_count": null,
      "outputs": [
        {
          "output_type": "stream",
          "name": "stdout",
          "text": [
            "Substruction of 10 - 7 : 3\n"
          ]
        }
      ]
    },
    {
      "cell_type": "code",
      "source": [
        "#2. Write a program that return the squre of that number.\n",
        "def square(x):\n",
        "    return x ** 2\n",
        "\n",
        "result = square(5)\n",
        "print(f\"The square is: {result}\")"
      ],
      "metadata": {
        "colab": {
          "base_uri": "https://localhost:8080/"
        },
        "id": "REYR_Pb-LT_2",
        "outputId": "d4565573-d404-4099-9ea7-93be27ab079c"
      },
      "execution_count": null,
      "outputs": [
        {
          "output_type": "stream",
          "name": "stdout",
          "text": [
            "The square is: 25\n"
          ]
        }
      ]
    },
    {
      "cell_type": "code",
      "source": [
        "#3. Write a program that find factorial of 5 using recursive function.\n",
        "def factorial(n):\n",
        "    if n == 0 or n == 1:\n",
        "        return 1\n",
        "    else:\n",
        "        return n * factorial(n - 1)\n",
        "n = 5\n",
        "fact = factorial(n)\n",
        "print(f'Factorial of {n}: ', fact)"
      ],
      "metadata": {
        "colab": {
          "base_uri": "https://localhost:8080/"
        },
        "id": "W-dPP7A2LT9H",
        "outputId": "dd01dc67-246e-4b16-80f2-3e695b3fa8ec"
      },
      "execution_count": null,
      "outputs": [
        {
          "output_type": "stream",
          "name": "stdout",
          "text": [
            "Factorial of 5:  120\n"
          ]
        }
      ]
    },
    {
      "cell_type": "code",
      "source": [
        "#4. Write a program that passes list as parameter and traverse the list.\n",
        "def process_list(list):\n",
        "    for item in list:\n",
        "        print(item)\n",
        "x = [7, 17, 19, 23]\n",
        "process_list(x)\n"
      ],
      "metadata": {
        "colab": {
          "base_uri": "https://localhost:8080/"
        },
        "id": "zKM5mdjHLT3F",
        "outputId": "52be2a31-68f0-4822-c077-e49b0fd3c5fd"
      },
      "execution_count": null,
      "outputs": [
        {
          "output_type": "stream",
          "name": "stdout",
          "text": [
            "7\n",
            "17\n",
            "19\n",
            "23\n"
          ]
        }
      ]
    },
    {
      "cell_type": "code",
      "source": [
        "#5. Write a program that valid usage of keyword and argumental parameter.\n",
        "def parameter(a, b, /, x, y, *, c, d):\n",
        "    print(a, b, x, y, c, d)\n",
        "parameter(1, 2, 3, 4, c=5, d=6)"
      ],
      "metadata": {
        "colab": {
          "base_uri": "https://localhost:8080/"
        },
        "id": "RcDLBIZpLTcq",
        "outputId": "e193e18a-3bf7-4906-8d59-b382d070bcf8"
      },
      "execution_count": null,
      "outputs": [
        {
          "output_type": "stream",
          "name": "stdout",
          "text": [
            "1 2 3 4 5 6\n"
          ]
        }
      ]
    }
  ]
}